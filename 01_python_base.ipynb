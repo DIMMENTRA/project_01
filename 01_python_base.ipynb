{
  "nbformat": 4,
  "nbformat_minor": 0,
  "metadata": {
    "colab": {
      "provenance": []
    },
    "kernelspec": {
      "name": "python3",
      "display_name": "Python 3"
    },
    "language_info": {
      "name": "python"
    }
  },
  "cells": [
    {
      "cell_type": "markdown",
      "source": [
        "# Python.  Основы 1.\n",
        "\n",
        "* ВЫПОЛНЕНО - язык разметки markdown\n",
        "* ВЫПОЛНЕНО - целые и вещественные числа\n",
        "* ВЫПОЛНЕНО - переменные\n",
        "* ВЫПОЛНЕНО - индексация строк\n",
        "* TODO - отличия списков и кортежей\n",
        "\n"
      ],
      "metadata": {
        "id": "3b-CLR0iIZLP"
      }
    },
    {
      "cell_type": "markdown",
      "source": [
        "  # Про язык разметки MarkDown\n",
        "    ## Header 2\n",
        "\n",
        "    ### Header 3\n",
        "    **Bold** - жирный шрифт\n"
      ],
      "metadata": {
        "id": "OjkF6tsCYLlk"
      }
    },
    {
      "cell_type": "markdown",
      "source": [
        "## Про Python\n",
        "### Типы данных\n",
        "* int - Целые числа (1, 100, -200, 0)\n",
        "* float - вещественные числа (1.0, 13.68, -200.1001, 0.0)\n",
        "* bool -логический тип данных(True, False)\n",
        "* str - строки, текст ('Приет', 'Как деле?', '1')\n",
        "\n",
        "### Функции\n",
        "* print() - вывод на экран\n",
        "* type() - возвращает тип данных указанного объекта\n",
        "* int() - приведение к типу данных int\n",
        "* float() - приведение к типу данных float\n",
        "* round (numb, n) - округление до указанного знака после запятой <br> (если n нет,то до целого числа)\n",
        "* len() - длина строки или списка\n",
        "* dir() - список методов для указанного типа данных\n",
        "\n",
        "### Методы - функции, которые работают для конкретного типа данных\n",
        "если функция - print(1+1), type('H')\n",
        "то метод - greeting.find('H')"
      ],
      "metadata": {
        "id": "2j8LC_8ocQ1o"
      }
    },
    {
      "cell_type": "markdown",
      "source": [],
      "metadata": {
        "id": "M7Kcf34mYFwJ"
      }
    },
    {
      "cell_type": "markdown",
      "source": [
        "## Целые и вещественные числа\n"
      ],
      "metadata": {
        "id": "BMXQTJb7ZJ9f"
      }
    },
    {
      "cell_type": "code",
      "source": [
        "# Арифметические операции\n",
        "# Комментарии CTRL + /\n",
        "# Сложение\n",
        "2+2\n",
        "\n"
      ],
      "metadata": {
        "colab": {
          "base_uri": "https://localhost:8080/"
        },
        "id": "K6waR2RPFQmO",
        "outputId": "b088974a-62fd-4fd5-927f-15ff54413ae3"
      },
      "execution_count": 9,
      "outputs": [
        {
          "output_type": "execute_result",
          "data": {
            "text/plain": [
              "4"
            ]
          },
          "metadata": {},
          "execution_count": 9
        }
      ]
    },
    {
      "cell_type": "code",
      "source": [
        "# Вычитание\n",
        "10-2"
      ],
      "metadata": {
        "colab": {
          "base_uri": "https://localhost:8080/"
        },
        "id": "_rUsuEazbdFL",
        "outputId": "8d085740-1d55-4372-9b5d-f34031bd02ac"
      },
      "execution_count": 11,
      "outputs": [
        {
          "output_type": "execute_result",
          "data": {
            "text/plain": [
              "8"
            ]
          },
          "metadata": {},
          "execution_count": 11
        }
      ]
    },
    {
      "cell_type": "code",
      "source": [
        "# Умножение\n",
        "2*2"
      ],
      "metadata": {
        "colab": {
          "base_uri": "https://localhost:8080/"
        },
        "id": "u1ehYeKpboy9",
        "outputId": "22bdb2d2-5485-45c2-8246-ea4b18e34139"
      },
      "execution_count": 13,
      "outputs": [
        {
          "output_type": "execute_result",
          "data": {
            "text/plain": [
              "4"
            ]
          },
          "metadata": {},
          "execution_count": 13
        }
      ]
    },
    {
      "cell_type": "code",
      "source": [
        "# Степень\n",
        "2**2\n",
        "2**5"
      ],
      "metadata": {
        "colab": {
          "base_uri": "https://localhost:8080/"
        },
        "id": "jwwG5b81fUFu",
        "outputId": "5f05f7af-b277-41ef-c947-450f1b0db672"
      },
      "execution_count": 20,
      "outputs": [
        {
          "output_type": "execute_result",
          "data": {
            "text/plain": [
              "32"
            ]
          },
          "metadata": {},
          "execution_count": 20
        }
      ]
    },
    {
      "cell_type": "code",
      "source": [
        "# Деление (обычное)\n",
        "print(2/2, type (2/2))\n",
        "\n",
        "# Целочисленное деление\n",
        "\n",
        "print(2//2,type (2//2))\n",
        "\n",
        "# Остаток от деления (как деление столбиком)\n",
        "print(2%2)\n",
        "print(10%3)"
      ],
      "metadata": {
        "colab": {
          "base_uri": "https://localhost:8080/"
        },
        "id": "kYlCnqgybz1v",
        "outputId": "020f2401-38e2-4a6d-fc8c-f9883430986a"
      },
      "execution_count": 22,
      "outputs": [
        {
          "output_type": "stream",
          "name": "stdout",
          "text": [
            "1.0 <class 'float'>\n",
            "1 <class 'int'>\n",
            "0\n",
            "1\n"
          ]
        }
      ]
    },
    {
      "cell_type": "code",
      "source": [
        "# Вопрос 1\n",
        "print(30.0//3)\n",
        "# Нужны ли пробелы???\n",
        "# print((20**3*4+789**3)//5+1000**2)  # Жесть\n",
        "\n",
        "# print(20 + 10, 100 ** 2)\n",
        "\n",
        "# print(\n",
        "#     20 + 10,\n",
        "#       100 ** 2\n",
        "#     )\n",
        "\n",
        "# Почему float?\n",
        "# если в вычислении учавствует float, то результат float!\n",
        "\n",
        "print(33.145 + 10)\n",
        "print(33.145 / 10)\n",
        "print(33.145 / 13)\n",
        "print(33.145 // 13)  # деление нацело работает, но тип данных float"
      ],
      "metadata": {
        "colab": {
          "base_uri": "https://localhost:8080/"
        },
        "id": "Ub6NLwmB1eSd",
        "outputId": "31ce17f1-8e3a-456d-8bf5-71f652db56da"
      },
      "execution_count": 4,
      "outputs": [
        {
          "output_type": "stream",
          "name": "stdout",
          "text": [
            "10.0\n",
            "43.145\n",
            "3.3145000000000002\n",
            "2.549615384615385\n",
            "2.0\n"
          ]
        }
      ]
    },
    {
      "cell_type": "code",
      "source": [
        "# Вопрос 2\n",
        "# Операции сравнения (>, <, ==, >=, <=, !=)\n",
        "print(1 + 2 == 3)\n",
        "print(0.1+0.2==0.3)\n",
        "print(0.1+0.2)\n",
        "\n",
        "# Почему 0.3000000000004\n",
        "# У float существует потеря точности\n",
        "0.3+0.3+0.3+0.1"
      ],
      "metadata": {
        "colab": {
          "base_uri": "https://localhost:8080/"
        },
        "id": "VC2tGsp_4hqH",
        "outputId": "74f7582e-2282-4060-da86-5e007d930fd9"
      },
      "execution_count": 6,
      "outputs": [
        {
          "output_type": "stream",
          "name": "stdout",
          "text": [
            "True\n",
            "False\n",
            "0.30000000000000004\n"
          ]
        }
      ]
    },
    {
      "cell_type": "code",
      "source": [
        "# Вопрос 3\n",
        "# Округление к другому типу данных\n",
        "\n",
        "print(int(21))\n",
        "print(float(21))\n",
        "print(float(21)*0)\n",
        "print(int(21)+float(21)*0)"
      ],
      "metadata": {
        "colab": {
          "base_uri": "https://localhost:8080/"
        },
        "id": "3YbOxUXr5XD3",
        "outputId": "008af4a4-f4c4-4df4-d0eb-432fe971679f"
      },
      "execution_count": 9,
      "outputs": [
        {
          "output_type": "stream",
          "name": "stdout",
          "text": [
            "21\n",
            "21.0\n",
            "0.0\n",
            "21.0\n"
          ]
        }
      ]
    },
    {
      "cell_type": "code",
      "source": [
        "# Вопрос 4\n",
        "# Округление\n",
        "# round(15.1941)\n",
        "# round(15.1941, 2)\n",
        "\n",
        "print(round(12.5))  # 12< 12.5 < 14 (ближе к 12)\n",
        "print(round(11.5))  # 10< 11.5 < 12 (ближе к 12)\n",
        "#print(round(12.5) - round(11.5))\n",
        "\n",
        "# Примечание:смотрите на результат работы той или иной функции или операции\n",
        "# print(round(12.5) - round(11.5))\n",
        "\n",
        "# print(tuple(range(10, len(ist))))\n",
        "\n",
        " #  ~ df[].stack().apply().(lambda x: x >10).sort_index().unstack()\n",
        "\n"
      ],
      "metadata": {
        "colab": {
          "base_uri": "https://localhost:8080/"
        },
        "id": "ZAR8-GycKmsx",
        "outputId": "afb8f51a-1e63-4737-c9df-f600dd009114"
      },
      "execution_count": 17,
      "outputs": [
        {
          "output_type": "stream",
          "name": "stdout",
          "text": [
            "12\n",
            "12\n",
            "0\n"
          ]
        }
      ]
    },
    {
      "cell_type": "code",
      "source": [
        "# Доп. вопрос.  (бинарные)\n",
        "# Чему будет равно ~~~~~~5?\n",
        "print(2 - 10 * -2)\n",
        "\n",
        "# Тогда это что ?\n",
        "# Битовое отрицание\n",
        "~ 5\n",
        "~ 5 == -(5+1)\n",
        "~~ 5 == -(-(5+1)+1)\n",
        "\n",
        "print(~1 == -(1+1) == -2)\n",
        "\n",
        "# Двоичная система счисления\n",
        "# 000 - 0\n",
        "# 001 - 1\n",
        "# 010 - 2\n",
        "# 011 - 3\n",
        "# 100 - 4\n",
        "# 101 - 5\n",
        "\n",
        "# 0000001 - 1\n",
        "# 1111110 -  -1"
      ],
      "metadata": {
        "colab": {
          "base_uri": "https://localhost:8080/"
        },
        "id": "HpnI_h9ljofs",
        "outputId": "d0234260-8f78-427b-a773-ab640ddee11f"
      },
      "execution_count": 3,
      "outputs": [
        {
          "output_type": "stream",
          "name": "stdout",
          "text": [
            "22\n"
          ]
        },
        {
          "output_type": "execute_result",
          "data": {
            "text/plain": [
              "True"
            ]
          },
          "metadata": {},
          "execution_count": 3
        }
      ]
    },
    {
      "cell_type": "markdown",
      "source": [
        "### Переменные\n",
        "ярлыки для сохранения результата операции"
      ],
      "metadata": {
        "id": "ECd0GIoen0fF"
      }
    },
    {
      "cell_type": "code",
      "source": [
        "# (20 + 10) ** 2 * 5\n",
        "\n",
        "# Присвоение переменной для результата операции\n",
        "result = (20 + 10) ** 2 * 5\n",
        "x = result ** 2\n",
        "x"
      ],
      "metadata": {
        "colab": {
          "base_uri": "https://localhost:8080/"
        },
        "id": "UGD5Y-T1n1Ti",
        "outputId": "25cb3231-65a6-4bce-c164-5dbd9389dd2c"
      },
      "execution_count": 21,
      "outputs": [
        {
          "output_type": "execute_result",
          "data": {
            "text/plain": [
              "20250000"
            ]
          },
          "metadata": {},
          "execution_count": 21
        }
      ]
    },
    {
      "cell_type": "markdown",
      "source": [
        "##### Правила имен переменных:\n",
        "1. Имя переменной должно начинаться с буквы или знака подчеркивания '_';\n",
        "2. Имя переменной не может начинаться с цифры;\n",
        "3. Имя переменной может содержать в себе только буквы, числа от 0 до 9 и знак\n",
        "подчеркивания;\n",
        "4. Имя переменных чувствительны к регистру («Age», «age», «AGE» — разные\n",
        "переменные)"
      ],
      "metadata": {
        "id": "Z-DvaVgKt8tK"
      }
    },
    {
      "cell_type": "markdown",
      "source": [
        "#### Желательно для названия переменной\n",
        "1. Записано маленькими латинскими буквами\n",
        "2. Разделено нижним подчеркиванием “_”, если в названии переменной\n",
        "несколько слов\n",
        "3. Отображать, какой объект за переменной находиться (иметь\n",
        "семантическую связь)"
      ],
      "metadata": {
        "id": "HxBWErdiu8sw"
      }
    },
    {
      "cell_type": "code",
      "source": [
        "# Примеры имен переменных\n",
        "x = 1\n",
        "_x = 2\n",
        "namber = 100\n",
        "age_in_years =20\n",
        "\n",
        "\n",
        "shop_of_my_dream = 'Pyatorochka'\n",
        "\n",
        "# сематическая связь\n",
        "\n",
        "cost_function = 'Чижик ?!?!?'\n",
        "greeting = 'Hello'\n",
        "\n",
        "\n",
        "# Нельзя начинать с цифры\n",
        "# 1Xbet = 'Ставки на спорт'\n",
        "\n",
        "\n",
        "# множественное присвоение\n",
        "\n",
        "# x = 19\n",
        "# y = 72\n",
        "# z = 106\n",
        "x, y, z = 19, 72, 106\n",
        "print(x, y, z)\n",
        "\n",
        "# можно использовать разные типы данных\n",
        "fvar, svar, tvar = 10, True, -14.102\n",
        "#  кстати!\n",
        "flag = 2 > 2\n",
        "type(flag)"
      ],
      "metadata": {
        "colab": {
          "base_uri": "https://localhost:8080/"
        },
        "id": "XnJNYhk-uGxB",
        "outputId": "13a33ed8-ea0f-4d01-d89a-276b9a356315"
      },
      "execution_count": 28,
      "outputs": [
        {
          "output_type": "stream",
          "name": "stdout",
          "text": [
            "19 72 106\n"
          ]
        },
        {
          "output_type": "execute_result",
          "data": {
            "text/plain": [
              "bool"
            ]
          },
          "metadata": {},
          "execution_count": 28
        }
      ]
    },
    {
      "cell_type": "code",
      "source": [
        "# Запуск возможен в других ячейках\n",
        "x ** y // z"
      ],
      "metadata": {
        "colab": {
          "base_uri": "https://localhost:8080/"
        },
        "id": "qgfiO-CbzRI3",
        "outputId": "648948ba-d8a0-436e-98b8-4599374bb704"
      },
      "execution_count": 29,
      "outputs": [
        {
          "output_type": "execute_result",
          "data": {
            "text/plain": [
              "1109055815200111627037279927332796270374642380134380456764603930862652730398597727284731141"
            ]
          },
          "metadata": {},
          "execution_count": 29
        }
      ]
    },
    {
      "cell_type": "code",
      "source": [
        "# Двойственное присвоение к объекту\n",
        "x = y = 100\n",
        "печатай = print\n",
        "печатай(x ** y // z)\n",
        "print(x)"
      ],
      "metadata": {
        "colab": {
          "base_uri": "https://localhost:8080/"
        },
        "id": "FNRYdERM1GkV",
        "outputId": "c437a2f4-f5e9-48ee-d931-b64958102b39"
      },
      "execution_count": 30,
      "outputs": [
        {
          "output_type": "stream",
          "name": "stdout",
          "text": [
            "943396226415094339622641509433962264150943396226415094339622641509433962264150943396226415094339622641509433962264150943396226415094339622641509433962264150943396226415094339622641509433962264150943\n",
            "100\n"
          ]
        }
      ]
    },
    {
      "cell_type": "markdown",
      "source": [
        "### Индексация строк"
      ],
      "metadata": {
        "id": "arpNRMAx2cjx"
      }
    },
    {
      "cell_type": "code",
      "source": [
        "# строки str\n",
        "\n",
        "greeting = 'Hello'\n",
        "greeting\n",
        "\n",
        "# Кавычки\n",
        "'Hello'\n",
        "\"Hello\"\n",
        "# но пример!\n",
        "# text = 'Добрый вечер 'мистер  Смит''\n",
        "\n",
        "#  Вариант 1 - экранирование\n",
        "text = 'Добрый вечер \\'мистер  Смит\\''\n",
        "\n",
        "#  Вариант 2 - другие кавычки\n",
        "text = \"Добрый вечер 'мистер  Смит'\"\n",
        "\n",
        "# Многострочный текст\n",
        "multitext = '''Hello\n",
        " World!'''\n",
        "\n",
        "\"\"\" Документация к функциям\"\"\"\n"
      ],
      "metadata": {
        "colab": {
          "base_uri": "https://localhost:8080/",
          "height": 36
        },
        "id": "z9mtswuX3jty",
        "outputId": "7adf661f-e44b-4c65-af12-e4f385225c3b"
      },
      "execution_count": 33,
      "outputs": [
        {
          "output_type": "execute_result",
          "data": {
            "text/plain": [
              "' Документация к функциям'"
            ],
            "application/vnd.google.colaboratory.intrinsic+json": {
              "type": "string"
            }
          },
          "metadata": {},
          "execution_count": 33
        }
      ]
    },
    {
      "cell_type": "code",
      "source": [
        "# Индексация\n",
        "greeting = 'Hello World!'\n",
        "\n",
        "#                -4-3-2 -1\n",
        "# H e l l o   W o r l d  !\n",
        "# 0 1 2 3 4 5 6 7 8 9 10 11\n",
        "\n",
        "greeting[0]\n",
        "greeting[6]\n",
        "greeting[-1]\n",
        "greeting[-6]\n",
        "greeting[6:11]\n",
        "greeting[0:5]\n",
        "greeting[:5]\n",
        "\n",
        "greeting[6:11] + ' ' + greeting[:5]\n",
        "\n",
        "greeting[6:11:2]\n",
        "greeting[::2]\n",
        "\n",
        "invert_str = greeting[::-1]\n",
        "invert_str"
      ],
      "metadata": {
        "colab": {
          "base_uri": "https://localhost:8080/",
          "height": 36
        },
        "id": "sxvnPYVNMMXq",
        "outputId": "8ef82b16-ff58-4d3f-fe1a-30766f5d8db8"
      },
      "execution_count": 47,
      "outputs": [
        {
          "output_type": "execute_result",
          "data": {
            "text/plain": [
              "'!dlroW olleH'"
            ],
            "application/vnd.google.colaboratory.intrinsic+json": {
              "type": "string"
            }
          },
          "metadata": {},
          "execution_count": 47
        }
      ]
    },
    {
      "cell_type": "code",
      "source": [
        "# Как найти индекс строки?\n",
        "# С помощью методов\n",
        "\n",
        "greeting.find('H')\n",
        "# number.find('H') метода find для числа нет! только для str\n",
        "\n",
        "greeting[:  greeting.rfind('l')]\n",
        "\n",
        "len(greeting)\n",
        "greeting[:  len(greeting)]"
      ],
      "metadata": {
        "colab": {
          "base_uri": "https://localhost:8080/",
          "height": 36
        },
        "id": "ck0m9RHWRJe_",
        "outputId": "b438c203-4e6d-4cd9-c904-8bb36adf8f32"
      },
      "execution_count": 52,
      "outputs": [
        {
          "output_type": "execute_result",
          "data": {
            "text/plain": [
              "'Hello World!'"
            ],
            "application/vnd.google.colaboratory.intrinsic+json": {
              "type": "string"
            }
          },
          "metadata": {},
          "execution_count": 52
        }
      ]
    },
    {
      "cell_type": "code",
      "source": [
        "# Список методов для типа данных\n",
        "dir(greeting)"
      ],
      "metadata": {
        "id": "M8nhFEX6cUDN"
      },
      "execution_count": null,
      "outputs": []
    },
    {
      "cell_type": "code",
      "source": [
        "greeting.upper()\n",
        "number.to_bytes(4, 'big')"
      ],
      "metadata": {
        "colab": {
          "base_uri": "https://localhost:8080/",
          "height": 182
        },
        "id": "9GU4Zwsdcoqp",
        "outputId": "237da346-9ece-4846-b2d3-4a5f159efaa6"
      },
      "execution_count": 61,
      "outputs": [
        {
          "output_type": "error",
          "ename": "NameError",
          "evalue": "ignored",
          "traceback": [
            "\u001b[0;31m---------------------------------------------------------------------------\u001b[0m",
            "\u001b[0;31mNameError\u001b[0m                                 Traceback (most recent call last)",
            "\u001b[0;32m<ipython-input-61-07e7c2eed163>\u001b[0m in \u001b[0;36m<cell line: 2>\u001b[0;34m()\u001b[0m\n\u001b[1;32m      1\u001b[0m \u001b[0mgreeting\u001b[0m\u001b[0;34m.\u001b[0m\u001b[0mupper\u001b[0m\u001b[0;34m(\u001b[0m\u001b[0;34m)\u001b[0m\u001b[0;34m\u001b[0m\u001b[0;34m\u001b[0m\u001b[0m\n\u001b[0;32m----> 2\u001b[0;31m \u001b[0mnumb\u001b[0m\u001b[0;34m.\u001b[0m\u001b[0mto_bytes\u001b[0m\u001b[0;34m(\u001b[0m\u001b[0;36m4\u001b[0m\u001b[0;34m,\u001b[0m \u001b[0;34m'big'\u001b[0m\u001b[0;34m)\u001b[0m\u001b[0;34m\u001b[0m\u001b[0;34m\u001b[0m\u001b[0m\n\u001b[0m",
            "\u001b[0;31mNameError\u001b[0m: name 'numb' is not defined"
          ]
        }
      ]
    }
  ]
}